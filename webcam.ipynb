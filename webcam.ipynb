{
 "cells": [
  {
   "cell_type": "code",
   "execution_count": null,
   "metadata": {},
   "outputs": [],
   "source": [
    "import cv2 # import the OpenCV Library\n",
    "import numpy as np\n",
    "import matplotlib.pyplot as plt\n",
    "from utils import *\n",
    "import os\n",
    "\n",
    "# https://www.kaggle.com/code/kshitijdhama/canny-edge-and-wrap-perspective-opencv\n",
    "# https://stackoverflow.com/questions/63445987/how-to-get-4-points-of-the-sudoku-gridsudoku-solver-project\n",
    "\n",
    "def getContours(img, original_img):\n",
    "\n",
    "    (cnts, _) = cv2.findContours(img, cv2.RETR_EXTERNAL, cv2.CHAIN_APPROX_SIMPLE)\n",
    "    # (cnts, _) = cv2.findContours(img, cv2.RETR_LIST, cv2.CHAIN_APPROX_SIMPLE)\n",
    "    \n",
    "    for cnt in cnts:\n",
    "        area = cv2.contourArea(cnt)\n",
    "\n",
    "        if area > 100: \n",
    "            # print(area)\n",
    "            cv2.drawContours(original_img, cnt, -1, (0,255,0), 2)\n",
    "\n",
    "\n",
    "###########################\n",
    "\n",
    "# path_output_dir = \"/Users/per.nerseth/Desktop\"\n",
    "path_output_dir = \"snapshots\"\n",
    "\n",
    "cap = cv2.VideoCapture(0) # capture the webcam\n",
    "# cap.set(3, 640) ## define the dimensions\n",
    "# cap.set(4, 480)\n",
    "\n",
    "count = 0\n",
    "while True:\n",
    "    success, img = cap.read()\n",
    "    imgRaw = img.copy()\n",
    "    \n",
    "    if success:\n",
    "        imgThreshold = preProcess(img)\n",
    "\n",
    "        imgCanny = cv2.Canny(imgThreshold, 50, 50)\n",
    "\n",
    "        # Getting the contours\n",
    "        getContours(imgCanny, img)\n",
    "\n",
    "        cv2.imshow(\"Webcam\", img)\n",
    "    else:\n",
    "        break\n",
    "\n",
    "    pressedKey = cv2.waitKey(1) & 0xFF\n",
    "    if pressedKey == ord('q'):\n",
    "        cap.release()\n",
    "        cv2.destroyAllWindows()\n",
    "        break\n",
    "    elif pressedKey == ord('s'):\n",
    "        imgPath = os.path.join(path_output_dir, '%d.png') % count\n",
    "        print('Saving snapshot to ', imgPath)\n",
    "        cv2.imwrite(imgPath, imgRaw)\n",
    "        count += 1\n"
   ]
  }
 ],
 "metadata": {
  "kernelspec": {
   "display_name": "Python 3 (ipykernel)",
   "language": "python",
   "name": "python3"
  },
  "language_info": {
   "codemirror_mode": {
    "name": "ipython",
    "version": 3
   },
   "file_extension": ".py",
   "mimetype": "text/x-python",
   "name": "python",
   "nbconvert_exporter": "python",
   "pygments_lexer": "ipython3",
   "version": "3.9.13"
  },
  "vscode": {
   "interpreter": {
    "hash": "aa3dd84ef0f650d9d8b867844db5a915f08cb58b5d6dab20fc53865ee0283ae4"
   }
  }
 },
 "nbformat": 4,
 "nbformat_minor": 4
}
