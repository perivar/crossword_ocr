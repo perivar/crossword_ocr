{
 "cells": [
  {
   "cell_type": "code",
   "execution_count": 7,
   "metadata": {},
   "outputs": [],
   "source": [
    "import cv2 # import the OpenCV Library\n",
    "import numpy as np\n",
    "import matplotlib.pyplot as plt\n",
    "from utils import *\n",
    "\n",
    "# https://www.kaggle.com/code/kshitijdhama/canny-edge-and-wrap-perspective-opencv\n",
    "# https://stackoverflow.com/questions/63445987/how-to-get-4-points-of-the-sudoku-gridsudoku-solver-project\n",
    "\n",
    "def getContours(img, original_img):\n",
    "\n",
    "    contours, hierarchy = cv2.findContours(img, cv2.RETR_EXTERNAL, cv2.CHAIN_APPROX_SIMPLE)\n",
    "    # contours, hierarchy = cv2.findContours(img, cv2.RETR_LIST, cv2.CHAIN_APPROX_SIMPLE)\n",
    "    \n",
    "    for cnt in contours:\n",
    "        area = cv2.contourArea(cnt)\n",
    "\n",
    "        if area > 100: \n",
    "            # print(area)\n",
    "            cv2.drawContours(original_img, cnt, -1, (0,255,0), 2)\n",
    "\n",
    "\n",
    "###########################\n",
    "\n",
    "cap = cv2.VideoCapture(0) # capture the webcam\n",
    "cap.set(3, 640) ## define the dimensions\n",
    "cap.set(4, 480)\n",
    "\n",
    "while True:\n",
    "    success, img = cap.read()\n",
    "    \n",
    "    imgThreshold = preProcess(img)\n",
    "\n",
    "    imgCanny = cv2.Canny(imgThreshold, 50, 50)\n",
    "\n",
    "    # Getting the contours\n",
    "    getContours(imgCanny, img)\n",
    "\n",
    "    cv2.imshow(\"Webcam\", img)\n",
    "\n",
    "    if cv2.waitKey(1) & 0xff == ord('q'):\n",
    "        cv2.destroyAllWindows()\n",
    "        break\n"
   ]
  }
 ],
 "metadata": {
  "kernelspec": {
   "display_name": "Python 3 (ipykernel)",
   "language": "python",
   "name": "python3"
  },
  "language_info": {
   "codemirror_mode": {
    "name": "ipython",
    "version": 3
   },
   "file_extension": ".py",
   "mimetype": "text/x-python",
   "name": "python",
   "nbconvert_exporter": "python",
   "pygments_lexer": "ipython3",
   "version": "3.9.13"
  },
  "vscode": {
   "interpreter": {
    "hash": "aa3dd84ef0f650d9d8b867844db5a915f08cb58b5d6dab20fc53865ee0283ae4"
   }
  }
 },
 "nbformat": 4,
 "nbformat_minor": 4
}
