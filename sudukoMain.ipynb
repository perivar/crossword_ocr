{
 "cells": [
  {
   "cell_type": "code",
   "execution_count": 10,
   "metadata": {},
   "outputs": [
    {
     "name": "stdout",
     "output_type": "stream",
     "text": [
      "[[[ 35 119]]\n",
      "\n",
      " [[  6 985]]\n",
      "\n",
      " [[958 996]]\n",
      "\n",
      " [[978 138]]]\n",
      "[[[ 35 119]]\n",
      "\n",
      " [[978 138]]\n",
      "\n",
      " [[  6 985]]\n",
      "\n",
      " [[958 996]]]\n"
     ]
    },
    {
     "data": {
      "text/plain": [
       "113"
      ]
     },
     "execution_count": 10,
     "metadata": {},
     "output_type": "execute_result"
    }
   ],
   "source": [
    "import cv2\n",
    "import numpy as np\n",
    "import matplotlib.pyplot as plt\n",
    "from utils import *\n",
    "\n",
    "########################################################################\n",
    "# pathImage = \"sudoku.jpeg\"\n",
    "pathImage = \"crossword-2.png\"\n",
    "heightImg = 1000\n",
    "widthImg = 1000\n",
    "########################################################################\n",
    "\n",
    "#### 1. PREPARE THE IMAGE\n",
    "img = cv2.imread(pathImage)\n",
    "img = cv2.resize(img, (widthImg, heightImg))  # RESIZE IMAGE TO MAKE IT A SQUARE IMAGE\n",
    "imgBlank = np.zeros((heightImg, widthImg, 3), np.uint8)  # CREATE A BLANK IMAGE FOR TESTING DEBUGGING IF REQUIRED\n",
    "imgThreshold = preProcess(img)\n",
    "\n",
    "#### 2. FIND ALL CONTOURS\n",
    "imgContours = img.copy() # COPY IMAGE FOR DISPLAY PURPOSES\n",
    "imgBigContour = img.copy() # COPY IMAGE FOR DISPLAY PURPOSES\n",
    "(cnts, _) = cv2.findContours(imgThreshold, cv2.RETR_EXTERNAL, cv2.CHAIN_APPROX_SIMPLE) # FIND ALL CONTOURS\n",
    "cv2.drawContours(imgContours, cnts, -1, (0, 255, 0), 3) # DRAW ALL DETECTED CONTOURS\n",
    "\n",
    "#### 3. FIND THE BIGGEST CONTOUR AND USE IT AS SUDOKU\n",
    "biggest, maxArea = biggestContour(cnts) # FIND THE BIGGEST CONTOUR\n",
    "print(biggest)\n",
    "if biggest.size != 0:\n",
    "    biggest = reorder(biggest)\n",
    "    print(biggest)\n",
    "    cv2.drawContours(imgBigContour, biggest, -1, (0, 0, 255), 25) # DRAW THE BIGGEST CONTOUR\n",
    "    pts1 = np.float32(biggest) # PREPARE POINTS FOR WARP\n",
    "    pts2 = np.float32([[0, 0],[widthImg, 0], [0, heightImg],[widthImg, heightImg]]) # PREPARE POINTS FOR WARP\n",
    "    matrix = cv2.getPerspectiveTransform(pts1, pts2) # GER\n",
    "    imgWarpColored = cv2.warpPerspective(img, matrix, (widthImg, heightImg))\n",
    "    imgDetectedDigits = imgBlank.copy()\n",
    "    imgWarpBW = cv2.cvtColor(imgWarpColored,cv2.COLOR_BGR2GRAY)\n",
    "\n",
    "    # Image Array for Display\n",
    "    imageArray = ([img, imgThreshold, imgContours, imgBigContour],\n",
    "                  [imgWarpColored, imgWarpBW, imgBlank, imgBlank] )\n",
    "    stackedImage = stackImages(imageArray, 1, \n",
    "        [['raw', 'threshold', 'contours', 'big contour'],\n",
    "        ['warp color', 'warp bw', 'blank', 'blank']])\n",
    "    cv2.imshow('Stacked Images', stackedImage)    \n",
    "    \n",
    "else:\n",
    "    print(\"No Sudoku Found\")\n",
    "\n",
    "cv2.waitKey(0)\n"
   ]
  }
 ],
 "metadata": {
  "kernelspec": {
   "display_name": "Python 3.9.13 ('py39')",
   "language": "python",
   "name": "python3"
  },
  "language_info": {
   "codemirror_mode": {
    "name": "ipython",
    "version": 3
   },
   "file_extension": ".py",
   "mimetype": "text/x-python",
   "name": "python",
   "nbconvert_exporter": "python",
   "pygments_lexer": "ipython3",
   "version": "3.9.13"
  },
  "orig_nbformat": 4,
  "vscode": {
   "interpreter": {
    "hash": "aa3dd84ef0f650d9d8b867844db5a915f08cb58b5d6dab20fc53865ee0283ae4"
   }
  }
 },
 "nbformat": 4,
 "nbformat_minor": 2
}
